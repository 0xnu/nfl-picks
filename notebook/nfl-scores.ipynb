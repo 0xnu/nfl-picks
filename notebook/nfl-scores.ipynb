{
 "cells": [
  {
   "cell_type": "code",
   "execution_count": 1,
   "id": "226a2f48",
   "metadata": {},
   "outputs": [
    {
     "name": "stdout",
     "output_type": "stream",
     "text": [
      "Sample NFL Scores Table:\n",
      "+------+-----------+-----------+------------+------------+-----------+\n",
      "| Week | Home Team | Away Team | Home Score | Away Score |   Status  |\n",
      "+------+-----------+-----------+------------+------------+-----------+\n",
      "|  3   |    BUF    |    MIA    |     24     |     17     |   Final   |\n",
      "|  3   |     KC    |    PHI    |     28     |     21     |   Final   |\n",
      "|  3   |     SF    |    LAR    |     31     |     14     |   Final   |\n",
      "|  3   |    DAL    |    NYG    |     -      |     -      | Scheduled |\n",
      "|  3   |    BAL    |    PIT    |     20     |     23     |   Final   |\n",
      "+------+-----------+-----------+------------+------------+-----------+\n",
      "\n",
      "Starting live scores tracker in 5 seconds...\n",
      "NFL Live Scores Tracker\n",
      "Press Ctrl+C to exit\n",
      "==================================================\n",
      "\u001b[H\u001b[2JNFL LIVE SCORES - Last Updated: 2025-09-21 09:20:43\n",
      "======================================================================\n",
      "+------+-----------+-----------+------------+------------+-----------+\n",
      "| Week | Home Team | Away Team | Home Score | Away Score |   Status  |\n",
      "+------+-----------+-----------+------------+------------+-----------+\n",
      "|  1   |    PHI    |    DAL    |     24     |     20     |   Final   |\n",
      "|  1   |    LAC    |     KC    |     27     |     21     |   Final   |\n",
      "|  1   |    ATL    |     TB    |     20     |     23     |   Final   |\n",
      "|  1   |    CLE    |    CIN    |     16     |     17     |   Final   |\n",
      "|  1   |    IND    |    MIA    |     33     |     8      |   Final   |\n",
      "|  1   |    JAX    |    CAR    |     26     |     10     |   Final   |\n",
      "|  1   |     NE    |     LV    |     13     |     20     |   Final   |\n",
      "|  1   |     NO    |    ARI    |     13     |     20     |   Final   |\n",
      "|  1   |    NYJ    |    PIT    |     32     |     34     |   Final   |\n",
      "|  1   |    WAS    |    NYG    |     21     |     6      |   Final   |\n",
      "|  1   |    DEN    |    TEN    |     20     |     12     |   Final   |\n",
      "|  1   |    SEA    |     SF    |     13     |     17     |   Final   |\n",
      "|  1   |     GB    |    DET    |     27     |     13     |   Final   |\n",
      "|  1   |     LA    |    HOU    |     14     |     9      |   Final   |\n",
      "|  1   |    BUF    |    BAL    |     41     |     40     |   Final   |\n",
      "|  1   |    CHI    |    MIN    |     24     |     27     |   Final   |\n",
      "|  2   |     GB    |    WAS    |     27     |     18     |   Final   |\n",
      "|  2   |    BAL    |    CLE    |     41     |     17     |   Final   |\n",
      "|  2   |    CIN    |    JAX    |     31     |     27     |   Final   |\n",
      "|  2   |    DAL    |    NYG    |     40     |     37     |   Final   |\n",
      "|  2   |    DET    |    CHI    |     52     |     21     |   Final   |\n",
      "|  2   |    MIA    |     NE    |     27     |     33     |   Final   |\n",
      "|  2   |     NO    |     SF    |     21     |     26     |   Final   |\n",
      "|  2   |    NYJ    |    BUF    |     10     |     30     |   Final   |\n",
      "|  2   |    PIT    |    SEA    |     17     |     31     |   Final   |\n",
      "|  2   |    TEN    |     LA    |     19     |     33     |   Final   |\n",
      "|  2   |    ARI    |    CAR    |     27     |     22     |   Final   |\n",
      "|  2   |    IND    |    DEN    |     29     |     28     |   Final   |\n",
      "|  2   |     KC    |    PHI    |     17     |     20     |   Final   |\n",
      "|  2   |    MIN    |    ATL    |     6      |     22     |   Final   |\n",
      "|  2   |    HOU    |     TB    |     19     |     20     |   Final   |\n",
      "|  2   |     LV    |    LAC    |     9      |     20     |   Final   |\n",
      "|  3   |    BUF    |    MIA    |     31     |     21     |   Final   |\n",
      "|  3   |    CAR    |    ATL    |     -      |     -      | Scheduled |\n",
      "|  3   |    CLE    |     GB    |     -      |     -      | Scheduled |\n",
      "|  3   |    JAX    |    HOU    |     -      |     -      | Scheduled |\n",
      "|  3   |    MIN    |    CIN    |     -      |     -      | Scheduled |\n",
      "|  3   |     NE    |    PIT    |     -      |     -      | Scheduled |\n",
      "|  3   |    PHI    |     LA    |     -      |     -      | Scheduled |\n",
      "|  3   |     TB    |    NYJ    |     -      |     -      | Scheduled |\n",
      "|  3   |    TEN    |    IND    |     -      |     -      | Scheduled |\n",
      "|  3   |    WAS    |     LV    |     -      |     -      | Scheduled |\n",
      "|  3   |    LAC    |    DEN    |     -      |     -      | Scheduled |\n",
      "|  3   |    SEA    |     NO    |     -      |     -      | Scheduled |\n",
      "|  3   |    CHI    |    DAL    |     -      |     -      | Scheduled |\n",
      "|  3   |     SF    |    ARI    |     -      |     -      | Scheduled |\n",
      "|  3   |    NYG    |     KC    |     -      |     -      | Scheduled |\n",
      "+------+-----------+-----------+------------+------------+-----------+\n",
      "\n",
      "Updating every 60 seconds... (Press Ctrl+C to exit)\n",
      "^C\n"
     ]
    }
   ],
   "source": [
    "!python nfl-scores.py"
   ]
  }
 ],
 "metadata": {
  "kernelspec": {
   "display_name": ".venv",
   "language": "python",
   "name": "python3"
  },
  "language_info": {
   "codemirror_mode": {
    "name": "ipython",
    "version": 3
   },
   "file_extension": ".py",
   "mimetype": "text/x-python",
   "name": "python",
   "nbconvert_exporter": "python",
   "pygments_lexer": "ipython3",
   "version": "3.11.13"
  }
 },
 "nbformat": 4,
 "nbformat_minor": 5
}
